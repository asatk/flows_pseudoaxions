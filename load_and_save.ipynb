{
 "cells": [
  {
   "cell_type": "code",
   "execution_count": 1,
   "metadata": {},
   "outputs": [
    {
     "name": "stdout",
     "output_type": "stream",
     "text": [
      "Welcome to JupyROOT 6.30/02\n"
     ]
    },
    {
     "name": "stderr",
     "output_type": "stream",
     "text": [
      "2024-01-18 00:00:07.848542: I tensorflow/core/platform/cpu_feature_guard.cc:182] This TensorFlow binary is optimized to use available CPU instructions in performance-critical operations.\n",
      "To enable the following instructions: SSE4.1 SSE4.2 AVX AVX2 FMA, in other operations, rebuild TensorFlow with the appropriate compiler flags.\n"
     ]
    }
   ],
   "source": [
    "from matplotlib import pyplot as plt\n",
    "import numpy as np\n",
    "\n",
    "from fedhex import RootLoader\n",
    "from fedhex import io as fxio"
   ]
  },
  {
   "cell_type": "code",
   "execution_count": 2,
   "metadata": {},
   "outputs": [],
   "source": [
    "root_path = \"./root/100x100box_200events/\"\n",
    "rl = RootLoader(path=root_path)\n",
    "\n",
    "tree_name = \"Events\"\n",
    "data_vars = [\"phi\", \"omega\"]\n",
    "cond_vars = [\"labelphi\", \"labelomega\"]\n",
    "cutstr = \"CBL_Region == 1 and Photon_pt[CBL_RecoPhi_photonindex] > 220\"\n",
    "defs = {\n",
    "    \"phi\": \"CBL_RecoPhi_mass\", \n",
    "    \"labelphi\": \"GenPhi_mass[0]\",\n",
    "    \"omega\": \"TwoProng_massPi0[CBL_RecoPhi_twoprongindex]\",\n",
    "    \"labelomega\": \"GenOmega_mass[0]\"\n",
    "}\n",
    "\n",
    "thresh = 150\n",
    "samples, labels = rl.load(\n",
    "    tree_name=tree_name,\n",
    "    data_vars=data_vars,\n",
    "    cond_vars=cond_vars,\n",
    "    cutstr=cutstr,\n",
    "    defs=defs,\n",
    "    event_thresh=thresh)\n",
    "\n",
    "data, cond = rl.preproc()"
   ]
  },
  {
   "cell_type": "code",
   "execution_count": 3,
   "metadata": {},
   "outputs": [
    {
     "data": {
      "text/plain": [
       "<matplotlib.collections.PathCollection at 0x7fc9cff0fc10>"
      ]
     },
     "execution_count": 3,
     "metadata": {},
     "output_type": "execute_result"
    },
    {
     "data": {
      "image/png": "[encoded data removed]",
      "text/plain": [
       "<Figure size 640x480 with 1 Axes>"
      ]
     },
     "metadata": {},
     "output_type": "display_data"
    }
   ],
   "source": [
    "plt.scatter(samples[:,0], samples[:,1])\n",
    "plt.scatter(labels[:,0], labels[:,1])"
   ]
  },
  {
   "cell_type": "code",
   "execution_count": 4,
   "metadata": {},
   "outputs": [
    {
     "data": {
      "text/plain": [
       "True"
      ]
     },
     "execution_count": 4,
     "metadata": {},
     "output_type": "execute_result"
    }
   ],
   "source": [
    "save_path = \"temp.root\"\n",
    "save_tree = \"tree\"\n",
    "fxio.save_root(\n",
    "    path=save_path,\n",
    "    tree_name=save_tree,\n",
    "    trn_samples=samples,\n",
    "    trn_labels=labels)"
   ]
  },
  {
   "cell_type": "code",
   "execution_count": 5,
   "metadata": {},
   "outputs": [],
   "source": [
    "# This is for trying to re-load what was just saved. Not working yet.\n",
    "# save_data_vars = [\"data\"]\n",
    "# save_cond_vars = [\"cond\"]\n",
    "# save_defs = {}\n",
    "# save_cutstr = \"\"\n",
    "# save_event_thresh = 0\n",
    "# save_max_depth = 1\n",
    "# samples, labels = fxio.load_root(root_dir=\".\",\n",
    "#                tree_name=save_tree,\n",
    "#                data_vars=save_data_vars,\n",
    "#                cond_vars=save_cond_vars,\n",
    "#                defs=save_defs,\n",
    "#                cutstr=save_cutstr,\n",
    "#                event_thresh=save_event_thresh,\n",
    "#                max_depth=save_max_depth)"
   ]
  },
  {
   "cell_type": "code",
   "execution_count": null,
   "metadata": {},
   "outputs": [],
   "source": []
  }
 ],
 "metadata": {
  "kernelspec": {
   "display_name": "rootflows",
   "language": "python",
   "name": "python3"
  },
  "language_info": {
   "codemirror_mode": {
    "name": "ipython",
    "version": 3
   },
   "file_extension": ".py",
   "mimetype": "text/x-python",
   "name": "python",
   "nbconvert_exporter": "python",
   "pygments_lexer": "ipython3",
   "version": "3.11.7"
  }
 },
 "nbformat": 4,
 "nbformat_minor": 2
}
