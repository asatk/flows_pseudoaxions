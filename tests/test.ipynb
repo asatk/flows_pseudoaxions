{
 "cells": [
  {
   "cell_type": "code",
   "execution_count": 28,
   "metadata": {},
   "outputs": [],
   "source": [
    "import numpy as np\n",
    "import uproot as up"
   ]
  },
  {
   "cell_type": "code",
   "execution_count": 29,
   "metadata": {},
   "outputs": [],
   "source": [
    "rootdatapath = \"./root/10x10box_10k_jun2023/Phi_5410_omega_2p2/2023-06-12-11-54-45/v1p0-78-8cf4/ATTOAODv1p2c2_0.root\"\n",
    "up.default_library = \"np\"\n",
    "cutstr = \"CBL_Region == 1\"\n",
    "phistr = \"CBL_RecoPhi_mass\"\n",
    "omegastr = \"TwoProng_massPi0\"\n",
    "omegaidxstr = \"CBL_RecoPhi_twoprongindex\"\n",
    "ptstr = \"Photon_pt\"\n",
    "ptidxstr = \"CBL_RecoPhi_photonindex\"\n",
    "labelphistr = \"GenPhi_mass\"\n",
    "labelomegastr = \"GenOmega_mass\"\n",
    "numworkers = 4\n"
   ]
  },
  {
   "cell_type": "code",
   "execution_count": 30,
   "metadata": {},
   "outputs": [],
   "source": [
    "datafile = up.open(rootdatapath)\n",
    "events = datafile[\"Events;1\"]\n",
    "\n",
    "arrs = events.arrays([phistr, omegastr, omegaidxstr, ptstr, ptidxstr,\n",
    "                        labelphistr, labelomegastr], cut=cutstr, library=\"np\")"
   ]
  },
  {
   "cell_type": "code",
   "execution_count": 31,
   "metadata": {},
   "outputs": [],
   "source": [
    "omegaidxarr = arrs[omegaidxstr]\n",
    "ptidxarr = arrs[ptidxstr]\n",
    "\n",
    "# -1 & -1 == -1 only way to get -1 b/c -1 is all bits\n",
    "idxcutarr = ((omegaidxarr & ptidxarr) != -1)"
   ]
  },
  {
   "cell_type": "code",
   "execution_count": 32,
   "metadata": {},
   "outputs": [
    {
     "name": "stdout",
     "output_type": "stream",
     "text": [
      "376\n"
     ]
    }
   ],
   "source": [
    "phi = arrs[phistr][idxcutarr]\n",
    "omega = arrs[omegastr][idxcutarr]\n",
    "omegaidx = arrs[omegaidxstr][idxcutarr]\n",
    "pt = arrs[ptstr][idxcutarr]\n",
    "ptidx = arrs[ptidxstr][idxcutarr]\n",
    "labelphi = arrs[labelphistr][idxcutarr]\n",
    "labelomega = arrs[labelomegastr][idxcutarr]\n",
    "print(len(omega))"
   ]
  },
  {
   "cell_type": "code",
   "execution_count": 35,
   "metadata": {},
   "outputs": [],
   "source": [
    "omega_temp = np.empty_like(omega, dtype=np.float32)\n",
    "labelphi_temp = np.empty_like(labelphi, dtype=np.float32)\n",
    "labelomega_temp = np.empty_like(labelomega, dtype=np.float32)"
   ]
  },
  {
   "cell_type": "code",
   "execution_count": 36,
   "metadata": {},
   "outputs": [],
   "source": [
    "for i in range(len(omega)):\n",
    "    if pt[i][ptidx[i]] > 220:\n",
    "        omega_temp[i] = omega[i][omegaidx[i]]\n",
    "        labelphi_temp[i] = labelphi[i][0]\n",
    "        labelomega_temp[i] = labelomega[i][0]\n",
    "    else:\n",
    "        omega_temp[i] = np.nan"
   ]
  },
  {
   "cell_type": "code",
   "execution_count": 39,
   "metadata": {},
   "outputs": [
    {
     "name": "stdout",
     "output_type": "stream",
     "text": [
      "376\n"
     ]
    }
   ],
   "source": [
    "cutarr = np.isfinite(omega_temp)\n",
    "newphi = phi[cutarr].copy()\n",
    "newomega = omega_temp[cutarr].copy()\n",
    "newlabelphi = labelphi_temp[cutarr].copy()\n",
    "newlabelomega = labelomega_temp[cutarr].copy()\n",
    "\n",
    "print(len(newomega))"
   ]
  },
  {
   "cell_type": "code",
   "execution_count": 41,
   "metadata": {},
   "outputs": [
    {
     "name": "stdout",
     "output_type": "stream",
     "text": [
      "float32 float32\n"
     ]
    }
   ],
   "source": [
    "samples = np.stack((newphi, newomega), axis=1)\n",
    "labels = np.stack((newlabelphi, newlabelomega), axis=1)"
   ]
  },
  {
   "cell_type": "code",
   "execution_count": null,
   "metadata": {},
   "outputs": [],
   "source": [
    "datafile.close()"
   ]
  }
 ],
 "metadata": {
  "kernelspec": {
   "display_name": "gan",
   "language": "python",
   "name": "python3"
  },
  "language_info": {
   "codemirror_mode": {
    "name": "ipython",
    "version": 3
   },
   "file_extension": ".py",
   "mimetype": "text/x-python",
   "name": "python",
   "nbconvert_exporter": "python",
   "pygments_lexer": "ipython3",
   "version": "3.10.11"
  },
  "orig_nbformat": 4
 },
 "nbformat": 4,
 "nbformat_minor": 2
}
