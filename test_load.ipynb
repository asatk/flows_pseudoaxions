{
 "cells": [
  {
   "cell_type": "code",
   "execution_count": null,
   "metadata": {},
   "outputs": [],
   "source": [
    "import uproot as up\n",
    "import numpy as np\n",
    "import pandas as pd\n",
    "import awkward as ak"
   ]
  },
  {
   "cell_type": "code",
   "execution_count": 1,
   "metadata": {},
   "outputs": [
    {
     "name": "stderr",
     "output_type": "stream",
     "text": [
      "2023-12-14 12:06:06.427956: I tensorflow/core/platform/cpu_feature_guard.cc:193] This TensorFlow binary is optimized with oneAPI Deep Neural Network Library (oneDNN) to use the following CPU instructions in performance-critical operations:  SSE4.1 SSE4.2 AVX AVX2 FMA\n",
      "To enable them in other operations, rebuild TensorFlow with the appropriate compiler flags.\n"
     ]
    }
   ],
   "source": [
    "import fedhex\n",
    "import uproot as up\n",
    "from fedhex.io._root import *\n",
    "from fedhex import RootLoader"
   ]
  },
  {
   "cell_type": "code",
   "execution_count": null,
   "metadata": {},
   "outputs": [],
   "source": [
    "rdir = \"/home/asatk/Documents/code/cern/flows/root/30x30_1k_jun2023/\"\n",
    "rpaths = find_root(rdir)\n",
    "rpath=rpaths[0]\n",
    "aliases = {\"x\":f\"{omegastr}[{omegaidxstr}]\"}\n",
    "# arr = up.concatenate(rpath, cut=cutstr, expressions=expressions, library=\"ak\", aliases=aliases)\n",
    "arr = up.concatenate(rpath, cut=cutstr, expressions=expressions, library=\"pd\", aliases=aliases)"
   ]
  },
  {
   "cell_type": "code",
   "execution_count": 3,
   "metadata": {},
   "outputs": [
    {
     "name": "stdout",
     "output_type": "stream",
     "text": [
      "pre concat\n",
      "in evtsel1\n",
      "after omega/indexing loop\n"
     ]
    }
   ],
   "source": [
    "rl = RootLoader(path=\"./root/100x100box_200events/\", data_dict=None)\n",
    "data, cond = rl.load()"
   ]
  },
  {
   "cell_type": "code",
   "execution_count": null,
   "metadata": {},
   "outputs": [],
   "source": []
  }
 ],
 "metadata": {
  "kernelspec": {
   "display_name": "flows",
   "language": "python",
   "name": "python3"
  },
  "language_info": {
   "codemirror_mode": {
    "name": "ipython",
    "version": 3
   },
   "file_extension": ".py",
   "mimetype": "text/x-python",
   "name": "python",
   "nbconvert_exporter": "python",
   "pygments_lexer": "ipython3",
   "version": "3.10.12"
  }
 },
 "nbformat": 4,
 "nbformat_minor": 2
}
