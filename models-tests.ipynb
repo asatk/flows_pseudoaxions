{
 "cells": [
  {
   "cell_type": "code",
   "execution_count": 1,
   "metadata": {},
   "outputs": [
    {
     "name": "stderr",
     "output_type": "stream",
     "text": [
      "2024-06-07 11:58:49.189630: I tensorflow/core/platform/cpu_feature_guard.cc:182] This TensorFlow binary is optimized to use available CPU instructions in performance-critical operations.\n",
      "To enable the following instructions: SSE4.1 SSE4.2 AVX AVX2 FMA, in other operations, rebuild TensorFlow with the appropriate compiler flags.\n"
     ]
    },
    {
     "name": "stdout",
     "output_type": "stream",
     "text": [
      "Welcome to JupyROOT 6.30/02\n"
     ]
    }
   ],
   "source": [
    "import numpy as np\n",
    "\n",
    "from tensorflow import keras\n",
    "\n",
    "import fedhex as fx\n",
    "from fedhex.pretrain import generation as fxgen\n",
    "from fedhex.train import SelectiveProgbarLogger, BatchLossHistory\n",
    "from fedhex.train.tf import loss_MADE"
   ]
  },
  {
   "cell_type": "code",
   "execution_count": 2,
   "metadata": {},
   "outputs": [],
   "source": [
    "ndim = 2\n",
    "nx = ny = 10\n",
    "sigmax = 1 / (nx + 1) / 2\n",
    "sigmay = 1 / (ny + 1) / 2\n",
    "sigma = np.array([sigmax, sigmay])\n",
    "\n",
    "gen = fx.GridGaussGenerator(cov_strat=fxgen.RepeatStrategy(fxgen.DiagCov(ndim=ndim, sigma=sigma)),\n",
    "                      ngausx=nx,\n",
    "                      ngausy=ny,\n",
    "                      seed=0x2024)\n",
    "\n",
    "nsamp = 1000\n",
    "samp, lab = gen.generate(nsamp=nsamp)\n",
    "lablocs = np.unique(lab, axis=0)"
   ]
  },
  {
   "cell_type": "code",
   "execution_count": 3,
   "metadata": {},
   "outputs": [
    {
     "name": "stdout",
     "output_type": "stream",
     "text": [
      "================================================================================\n",
      "11:59:02.33 <I> [Training begins]\n",
      "================================================================================\n",
      "epoch begin: 2024-06-07 11:59:21.955074 | time elapsed: 0:00:19.467556\n",
      "Epoch 10/20\n",
      "25/25 [==============================] - 1s 22ms/sample - loss: -0.2613\n",
      "epoch begin: 2024-06-07 11:59:28.179261 | time elapsed: 0:00:25.691743\n",
      "Epoch 20/20\n",
      "25/25 [==============================] - 1s 26ms/sample - loss: -0.5747\n",
      "INFO:tensorflow:Assets written to: model/2024.06.07-gg/assets\n"
     ]
    },
    {
     "name": "stderr",
     "output_type": "stream",
     "text": [
      "INFO:tensorflow:Assets written to: model/2024.06.07-gg/assets\n"
     ]
    },
    {
     "name": "stdout",
     "output_type": "stream",
     "text": [
      "================================================================================\n",
      "11:59:41.76 <I> [Training ends]\n",
      "================================================================================\n",
      "================================================================================\n",
      "0:00:39.43 <I> [Time elapsed]\n",
      "================================================================================\n"
     ]
    },
    {
     "name": "stderr",
     "output_type": "stream",
     "text": [
      "/home/asatk/miniconda3/envs/rootflows/lib/python3.11/site-packages/keras/src/initializers/__init__.py:144: UserWarning: The `keras.initializers.serialize()` API should only be used for objects of type `keras.initializers.Initializer`. Found an instance of type <class 'function'>, which may lead to improper serialization.\n",
      "  warnings.warn(\n",
      "/home/asatk/miniconda3/envs/rootflows/lib/python3.11/site-packages/keras/src/constraints.py:365: UserWarning: The `keras.constraints.serialize()` API should only be used for objects of type `keras.constraints.Constraint`. Found an instance of type <class 'function'>, which may lead to improper serialization.\n",
      "  warnings.warn(\n"
     ]
    }
   ],
   "source": [
    "nmade = 8\n",
    "ninputs = ncinputs = ndim\n",
    "hidden_units = [16, 16]\n",
    "batch_size = 1 << 12\n",
    "end_epoch = 20\n",
    "\n",
    "\n",
    "log_freq = 10\n",
    "flow_path = \"model/2024.06.07-gg\"\n",
    "callbacks = []\n",
    "callbacks.append(SelectiveProgbarLogger(1, epoch_interval=log_freq, epoch_end=end_epoch))\n",
    "callbacks.append(BatchLossHistory(flow_path + \"/loss.npy\"))\n",
    "\n",
    "\n",
    "model = fx.MADEManager(nmade=nmade,\n",
    "               ninputs=ninputs,\n",
    "               ncinputs=ncinputs,\n",
    "               hidden_units=hidden_units,\n",
    "               activation=\"relu\")\n",
    "\n",
    "opt = keras.optimizers.Adam(learning_rate=1e-3)\n",
    "loss = loss_MADE\n",
    "\n",
    "model.compile_model(opt=opt, loss=loss)\n",
    "\n",
    "model.train_model(dm=gen,\n",
    "                  batch_size=batch_size,\n",
    "                  end_epoch=end_epoch,\n",
    "                  callbacks=callbacks,\n",
    "                  path=flow_path)"
   ]
  },
  {
   "cell_type": "code",
   "execution_count": 4,
   "metadata": {},
   "outputs": [],
   "source": [
    "mm = fx.MADEManager.import_model(flow_path)"
   ]
  },
  {
   "cell_type": "code",
   "execution_count": 5,
   "metadata": {},
   "outputs": [
    {
     "name": "stdout",
     "output_type": "stream",
     "text": [
      "================================================================================\n",
      "11:59:49.67 <I> [Training begins]\n",
      "================================================================================\n",
      "epoch begin: 2024-06-07 12:00:07.698709 | time elapsed: 0:00:17.912309\n",
      "Epoch 30/40\n",
      "25/25 [==============================] - 1s 27ms/sample - loss: -0.6462\n",
      "epoch begin: 2024-06-07 12:00:13.842789 | time elapsed: 0:00:24.056389\n",
      "Epoch 40/40\n",
      "25/25 [==============================] - 1s 23ms/sample - loss: -0.6661\n",
      "INFO:tensorflow:Assets written to: model/2024.06.07-gg/assets\n"
     ]
    },
    {
     "name": "stderr",
     "output_type": "stream",
     "text": [
      "INFO:tensorflow:Assets written to: model/2024.06.07-gg/assets\n"
     ]
    },
    {
     "name": "stdout",
     "output_type": "stream",
     "text": [
      "================================================================================\n",
      "12:00:27.59 <I> [Training ends]\n",
      "================================================================================\n",
      "================================================================================\n",
      "0:00:37.91 <I> [Time elapsed]\n",
      "================================================================================\n"
     ]
    },
    {
     "name": "stderr",
     "output_type": "stream",
     "text": [
      "/home/asatk/miniconda3/envs/rootflows/lib/python3.11/site-packages/keras/src/initializers/__init__.py:144: UserWarning: The `keras.initializers.serialize()` API should only be used for objects of type `keras.initializers.Initializer`. Found an instance of type <class 'function'>, which may lead to improper serialization.\n",
      "  warnings.warn(\n",
      "/home/asatk/miniconda3/envs/rootflows/lib/python3.11/site-packages/keras/src/constraints.py:365: UserWarning: The `keras.constraints.serialize()` API should only be used for objects of type `keras.constraints.Constraint`. Found an instance of type <class 'function'>, which may lead to improper serialization.\n",
      "  warnings.warn(\n"
     ]
    }
   ],
   "source": [
    "end_epoch = int(2 * end_epoch)\n",
    "callbacks = []\n",
    "callbacks.append(SelectiveProgbarLogger(1, epoch_interval=log_freq, epoch_end=end_epoch))\n",
    "callbacks.append(BatchLossHistory(flow_path + \"/loss.npy\"))\n",
    "mm.train_model(dm=gen,\n",
    "                  batch_size=batch_size,\n",
    "                  starting_epoch=int(end_epoch/2),\n",
    "                  end_epoch=end_epoch,\n",
    "                  callbacks=callbacks,\n",
    "                  path=flow_path)"
   ]
  },
  {
   "cell_type": "code",
   "execution_count": null,
   "metadata": {},
   "outputs": [],
   "source": []
  }
 ],
 "metadata": {
  "kernelspec": {
   "display_name": "rootflows",
   "language": "python",
   "name": "python3"
  },
  "language_info": {
   "codemirror_mode": {
    "name": "ipython",
    "version": 3
   },
   "file_extension": ".py",
   "mimetype": "text/x-python",
   "name": "python",
   "nbconvert_exporter": "python",
   "pygments_lexer": "ipython3",
   "version": "3.11.7"
  }
 },
 "nbformat": 4,
 "nbformat_minor": 2
}
