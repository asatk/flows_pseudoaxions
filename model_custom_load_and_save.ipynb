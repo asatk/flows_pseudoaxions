{
 "cells": [
  {
   "cell_type": "code",
   "execution_count": 1,
   "metadata": {},
   "outputs": [
    {
     "name": "stdout",
     "output_type": "stream",
     "text": [
      "Welcome to JupyROOT 6.30/02\n"
     ]
    },
    {
     "name": "stderr",
     "output_type": "stream",
     "text": [
      "2024-02-29 15:59:42.420499: I tensorflow/core/platform/cpu_feature_guard.cc:182] This TensorFlow binary is optimized to use available CPU instructions in performance-critical operations.\n",
      "To enable the following instructions: SSE4.1 SSE4.2 AVX AVX2 FMA, in other operations, rebuild TensorFlow with the appropriate compiler flags.\n"
     ]
    }
   ],
   "source": [
    "import fedhex as fx\n",
    "from fedhex.pretrain import generation as fxgen\n",
    "from fedhex.train import Checkpointer, EpochLossHistory, SelectiveProgbarLogger\n",
    "from matplotlib import pyplot as plt\n",
    "import numpy as np"
   ]
  },
  {
   "cell_type": "code",
   "execution_count": 2,
   "metadata": {},
   "outputs": [],
   "source": [
    "# List data generation parameters\n",
    "ndim = 2\n",
    "sigma = 0.025\n",
    "ngausx = 5\n",
    "ngausy = 5\n",
    "lims = ((0., 1.), (0., 1.))\n",
    "seed = 0xace1ace1ace1ace1\n",
    "\n",
    "# Specify generation 'Strategy' for this (gaussian) Generator\n",
    "# Strategies for gaussian Generators specify the behavior of\n",
    "# a base covariance matrix that changes over the sample space\n",
    "strat = fxgen.RepeatStrategy(fxgen.DiagCov(ndim=ndim, sigma=sigma))"
   ]
  },
  {
   "cell_type": "code",
   "execution_count": 3,
   "metadata": {},
   "outputs": [],
   "source": [
    "# Make a data generator instance for the specified gaussians\n",
    "ggg = fx.GridGaussGenerator(cov_strat=strat, ngausx=ngausx,\n",
    "                               ngausy=ngausy, seed=seed, lims=lims)\n",
    "nsamp = 1000\n",
    "samples, labels = ggg.generate(nsamp=nsamp)\n",
    "data, cond = ggg.preproc()"
   ]
  },
  {
   "cell_type": "code",
   "execution_count": 4,
   "metadata": {},
   "outputs": [],
   "source": [
    "nmade = 10\n",
    "ninputs = 2\n",
    "ncinputs = 2\n",
    "hidden_layers = 2\n",
    "hidden_units = 128\n",
    "lr_tuple = (1e-3, 1e-4, 100)\n",
    "mm = fx.MADEManager(nmade=nmade, ninputs=ninputs, ncinputs=ncinputs,\n",
    "                    hidden_layers=hidden_layers, hidden_units=hidden_units,\n",
    "                    activation=\"relu\",\n",
    "                    lr_tuple=lr_tuple)\n",
    "mm.compile_model()"
   ]
  },
  {
   "cell_type": "code",
   "execution_count": null,
   "metadata": {},
   "outputs": [],
   "source": [
    "starting_epoch = 0\n",
    "end_epoch = 200\n",
    "batch_size = 1024\n",
    "flow_path = \"./model/02-29_modelsaveload/\"\n",
    "loss_path = flow_path + \"loss.npy\"\n",
    "\n",
    "callbacks = []\n",
    "\n",
    "save_freq = 50 * batch_size\n",
    "callbacks.append(Checkpointer(filepath=flow_path, save_freq=save_freq))\n",
    "\n",
    "callbacks.append(EpochLossHistory(loss_path=loss_path))\n",
    "\n",
    "log_freq = 10\n",
    "callbacks.append(SelectiveProgbarLogger(1, epoch_interval=log_freq, epoch_end=end_epoch))"
   ]
  },
  {
   "cell_type": "code",
   "execution_count": null,
   "metadata": {},
   "outputs": [],
   "source": [
    "mm.train_model(data=data, cond=cond, batch_size=batch_size,\n",
    "               starting_epoch=starting_epoch, end_epoch=end_epoch,\n",
    "               path=flow_path, callbacks=callbacks)"
   ]
  },
  {
   "cell_type": "code",
   "execution_count": null,
   "metadata": {},
   "outputs": [],
   "source": [
    "ngen = 500\n",
    "gen_labels_unique = [0.5, 0.5]\n",
    "gen_labels = np.repeat([gen_labels_unique], ngen, axis=0)\n",
    "gen_cond = ggg.norm(gen_labels, is_cond=True)\n",
    "\n",
    "gen_data = mm.eval_model(gen_cond, ggg)\n",
    "\n",
    "gen_samples = gen_data"
   ]
  },
  {
   "cell_type": "code",
   "execution_count": null,
   "metadata": {},
   "outputs": [],
   "source": [
    "fig, ax1 = plt.subplots(1,1, figsize=(8,8))\n",
    "ax1: plt.Axes\n",
    "\n",
    "ax1.scatter(gen_samples[:,0], gen_samples[:,1])\n",
    "ax1.scatter(gen_labels_unique[0], gen_labels_unique[1])\n",
    "ax1.set_title(\"Generated Data in Sample Space\")\n",
    "ax1.set_xlabel(\"X-coordinate\")\n",
    "ax1.set_ylabel(\"Y-coordinate\")\n",
    "ax1.set_xlim((0.4, 0.6))\n",
    "ax1.set_ylim((0.4, 0.6))\n",
    "pass"
   ]
  },
  {
   "cell_type": "code",
   "execution_count": null,
   "metadata": {},
   "outputs": [],
   "source": [
    "mm.save(flow_path + \"config.json\")"
   ]
  },
  {
   "cell_type": "code",
   "execution_count": null,
   "metadata": {},
   "outputs": [],
   "source": [
    "# from tensorflow import keras as tfk\n",
    "# model = tfk.models.load_model(flow_path)"
   ]
  },
  {
   "cell_type": "code",
   "execution_count": null,
   "metadata": {},
   "outputs": [],
   "source": [
    "from fedhex.train.tf._MADEflow import load_MADE\n",
    "\n",
    "model_loaded, dist_loaded, made_list, cfg = load_MADE(flow_path=flow_path, newmodel=False)"
   ]
  },
  {
   "cell_type": "code",
   "execution_count": null,
   "metadata": {},
   "outputs": [],
   "source": [
    "current_kwargs = {}\n",
    "for i in range(len(made_list) // 2):\n",
    "    current_kwargs[f\"maf_{i}\"] = {\"conditional_input\" : gen_cond}\n",
    "\n",
    "gen_data_loaded = dist_loaded.sample(len(gen_cond), bijector_kwargs=current_kwargs)\n",
    "gen_samples_loaded = ggg.denorm(gen_data, is_cond=False)"
   ]
  },
  {
   "cell_type": "code",
   "execution_count": null,
   "metadata": {},
   "outputs": [],
   "source": [
    "fig, ax1 = plt.subplots(1,1, figsize=(8,8))\n",
    "ax1: plt.Axes\n",
    "\n",
    "ax1.scatter(gen_samples_loaded[:,0], gen_samples_loaded[:,1])\n",
    "ax1.scatter(gen_labels_unique[0], gen_labels_unique[1])\n",
    "ax1.set_title(\"Generated Data in Sample Space\")\n",
    "ax1.set_xlabel(\"X-coordinate\")\n",
    "ax1.set_ylabel(\"Y-coordinate\")\n",
    "ax1.set_xlim((0.4, 0.6))\n",
    "ax1.set_ylim((0.4, 0.6))\n",
    "pass"
   ]
  },
  {
   "cell_type": "code",
   "execution_count": null,
   "metadata": {},
   "outputs": [],
   "source": [
    "hist, xedges, yedges = np.histogram2d(gen_samples[:,0], gen_samples[:,1], range=((0.4,0.6),(0.4,0.6)))\n",
    "hist_load, xedges, yedges = np.histogram2d(gen_samples_loaded[:,0], gen_samples_loaded[:,1], range=((0.4,0.6),(0.4,0.6)))"
   ]
  },
  {
   "cell_type": "code",
   "execution_count": null,
   "metadata": {},
   "outputs": [],
   "source": [
    "from matplotlib import pyplot as plt\n",
    "fig, (ax1, ax2, ax3) = plt.subplots(nrows=1, ncols=3, sharex=True, sharey=True)\n",
    "h1, _, _, _ = ax1.hist2d(gen_samples[:,0], gen_samples[:,1], range=((0.4,0.6),(0.4,0.6)))\n",
    "h2, _, _, _ = ax2.hist2d(gen_samples_loaded[:,0], gen_samples_loaded[:,1], range=((0.4,0.6),(0.4,0.6)))\n",
    "h3 = h1-h2\n",
    "ax3.imshow(h3)\n",
    "plt.show()"
   ]
  },
  {
   "cell_type": "code",
   "execution_count": null,
   "metadata": {},
   "outputs": [],
   "source": []
  }
 ],
 "metadata": {
  "kernelspec": {
   "display_name": "rootflows",
   "language": "python",
   "name": "python3"
  },
  "language_info": {
   "codemirror_mode": {
    "name": "ipython",
    "version": 3
   },
   "file_extension": ".py",
   "mimetype": "text/x-python",
   "name": "python",
   "nbconvert_exporter": "python",
   "pygments_lexer": "ipython3",
   "version": "3.11.7"
  }
 },
 "nbformat": 4,
 "nbformat_minor": 2
}
